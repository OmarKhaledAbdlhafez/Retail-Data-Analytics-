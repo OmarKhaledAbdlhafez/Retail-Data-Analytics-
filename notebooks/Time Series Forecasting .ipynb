{
 "cells": [
  {
   "cell_type": "code",
   "execution_count": 1,
   "id": "f1d374cc",
   "metadata": {
    "collapsed": true
   },
   "outputs": [],
   "source": [
    "import numpy as np \n",
    "import pandas as pd \n",
    "import matplotlib.pyplot as plt\n",
    "from statsmodels.graphics.tsaplots import acf, pacf, plot_acf, plot_pacf\n",
    "from statsmodels.tsa.arima_model import ARMA"
   ]
  },
  {
   "cell_type": "markdown",
   "id": "dbd58cf5",
   "metadata": {},
   "source": [
    "## load DataSet"
   ]
  },
  {
   "cell_type": "code",
   "execution_count": 2,
   "id": "ff6df669",
   "metadata": {
    "collapsed": true
   },
   "outputs": [],
   "source": [
    "path = 'D:\\work\\Te Data task\\Retail Data Analytics - Data'\n",
    "sales = pd.read_csv(path+'\\sales data-set.csv')\n",
    "store = pd.read_csv(path+'\\stores data-set.csv')\n",
    "features = pd.read_csv(path+'\\Features data set.csv')"
   ]
  },
  {
   "cell_type": "code",
   "execution_count": 3,
   "id": "ab1e768a",
   "metadata": {},
   "outputs": [
    {
     "data": {
      "text/html": [
       "<div>\n",
       "<style scoped>\n",
       "    .dataframe tbody tr th:only-of-type {\n",
       "        vertical-align: middle;\n",
       "    }\n",
       "\n",
       "    .dataframe tbody tr th {\n",
       "        vertical-align: top;\n",
       "    }\n",
       "\n",
       "    .dataframe thead th {\n",
       "        text-align: right;\n",
       "    }\n",
       "</style>\n",
       "<table border=\"1\" class=\"dataframe\">\n",
       "  <thead>\n",
       "    <tr style=\"text-align: right;\">\n",
       "      <th></th>\n",
       "      <th>Store</th>\n",
       "      <th>Dept</th>\n",
       "      <th>Date</th>\n",
       "      <th>Weekly_Sales</th>\n",
       "      <th>IsHoliday</th>\n",
       "      <th>Temperature</th>\n",
       "      <th>Fuel_Price</th>\n",
       "      <th>MarkDown1</th>\n",
       "      <th>MarkDown2</th>\n",
       "      <th>MarkDown3</th>\n",
       "      <th>MarkDown4</th>\n",
       "      <th>MarkDown5</th>\n",
       "      <th>CPI</th>\n",
       "      <th>Unemployment</th>\n",
       "      <th>Type</th>\n",
       "      <th>Size</th>\n",
       "    </tr>\n",
       "  </thead>\n",
       "  <tbody>\n",
       "    <tr>\n",
       "      <th>0</th>\n",
       "      <td>1</td>\n",
       "      <td>1</td>\n",
       "      <td>05/02/2010</td>\n",
       "      <td>24924.50</td>\n",
       "      <td>False</td>\n",
       "      <td>42.31</td>\n",
       "      <td>2.572</td>\n",
       "      <td>NaN</td>\n",
       "      <td>NaN</td>\n",
       "      <td>NaN</td>\n",
       "      <td>NaN</td>\n",
       "      <td>NaN</td>\n",
       "      <td>211.096358</td>\n",
       "      <td>8.106</td>\n",
       "      <td>A</td>\n",
       "      <td>151315</td>\n",
       "    </tr>\n",
       "    <tr>\n",
       "      <th>1</th>\n",
       "      <td>1</td>\n",
       "      <td>1</td>\n",
       "      <td>12/02/2010</td>\n",
       "      <td>46039.49</td>\n",
       "      <td>True</td>\n",
       "      <td>38.51</td>\n",
       "      <td>2.548</td>\n",
       "      <td>NaN</td>\n",
       "      <td>NaN</td>\n",
       "      <td>NaN</td>\n",
       "      <td>NaN</td>\n",
       "      <td>NaN</td>\n",
       "      <td>211.242170</td>\n",
       "      <td>8.106</td>\n",
       "      <td>A</td>\n",
       "      <td>151315</td>\n",
       "    </tr>\n",
       "    <tr>\n",
       "      <th>2</th>\n",
       "      <td>1</td>\n",
       "      <td>1</td>\n",
       "      <td>19/02/2010</td>\n",
       "      <td>41595.55</td>\n",
       "      <td>False</td>\n",
       "      <td>39.93</td>\n",
       "      <td>2.514</td>\n",
       "      <td>NaN</td>\n",
       "      <td>NaN</td>\n",
       "      <td>NaN</td>\n",
       "      <td>NaN</td>\n",
       "      <td>NaN</td>\n",
       "      <td>211.289143</td>\n",
       "      <td>8.106</td>\n",
       "      <td>A</td>\n",
       "      <td>151315</td>\n",
       "    </tr>\n",
       "    <tr>\n",
       "      <th>3</th>\n",
       "      <td>1</td>\n",
       "      <td>1</td>\n",
       "      <td>26/02/2010</td>\n",
       "      <td>19403.54</td>\n",
       "      <td>False</td>\n",
       "      <td>46.63</td>\n",
       "      <td>2.561</td>\n",
       "      <td>NaN</td>\n",
       "      <td>NaN</td>\n",
       "      <td>NaN</td>\n",
       "      <td>NaN</td>\n",
       "      <td>NaN</td>\n",
       "      <td>211.319643</td>\n",
       "      <td>8.106</td>\n",
       "      <td>A</td>\n",
       "      <td>151315</td>\n",
       "    </tr>\n",
       "    <tr>\n",
       "      <th>4</th>\n",
       "      <td>1</td>\n",
       "      <td>1</td>\n",
       "      <td>05/03/2010</td>\n",
       "      <td>21827.90</td>\n",
       "      <td>False</td>\n",
       "      <td>46.50</td>\n",
       "      <td>2.625</td>\n",
       "      <td>NaN</td>\n",
       "      <td>NaN</td>\n",
       "      <td>NaN</td>\n",
       "      <td>NaN</td>\n",
       "      <td>NaN</td>\n",
       "      <td>211.350143</td>\n",
       "      <td>8.106</td>\n",
       "      <td>A</td>\n",
       "      <td>151315</td>\n",
       "    </tr>\n",
       "  </tbody>\n",
       "</table>\n",
       "</div>"
      ],
      "text/plain": [
       "   Store  Dept        Date  Weekly_Sales  IsHoliday  Temperature  Fuel_Price  \\\n",
       "0      1     1  05/02/2010      24924.50      False        42.31       2.572   \n",
       "1      1     1  12/02/2010      46039.49       True        38.51       2.548   \n",
       "2      1     1  19/02/2010      41595.55      False        39.93       2.514   \n",
       "3      1     1  26/02/2010      19403.54      False        46.63       2.561   \n",
       "4      1     1  05/03/2010      21827.90      False        46.50       2.625   \n",
       "\n",
       "   MarkDown1  MarkDown2  MarkDown3  MarkDown4  MarkDown5         CPI  \\\n",
       "0        NaN        NaN        NaN        NaN        NaN  211.096358   \n",
       "1        NaN        NaN        NaN        NaN        NaN  211.242170   \n",
       "2        NaN        NaN        NaN        NaN        NaN  211.289143   \n",
       "3        NaN        NaN        NaN        NaN        NaN  211.319643   \n",
       "4        NaN        NaN        NaN        NaN        NaN  211.350143   \n",
       "\n",
       "   Unemployment Type    Size  \n",
       "0         8.106    A  151315  \n",
       "1         8.106    A  151315  \n",
       "2         8.106    A  151315  \n",
       "3         8.106    A  151315  \n",
       "4         8.106    A  151315  "
      ]
     },
     "execution_count": 3,
     "metadata": {},
     "output_type": "execute_result"
    }
   ],
   "source": [
    "df = sales.merge(features,how=\"left\", on=['Store', 'Date', 'IsHoliday'])\n",
    "df = df.merge(store, how= \"left\", on=['Store'])\n",
    "df.head()"
   ]
  },
  {
   "cell_type": "markdown",
   "id": "2988adb3",
   "metadata": {},
   "source": [
    "## get data of store 20 "
   ]
  },
  {
   "cell_type": "code",
   "execution_count": 59,
   "id": "02de8a69",
   "metadata": {},
   "outputs": [
    {
     "data": {
      "text/html": [
       "<div>\n",
       "<style scoped>\n",
       "    .dataframe tbody tr th:only-of-type {\n",
       "        vertical-align: middle;\n",
       "    }\n",
       "\n",
       "    .dataframe tbody tr th {\n",
       "        vertical-align: top;\n",
       "    }\n",
       "\n",
       "    .dataframe thead th {\n",
       "        text-align: right;\n",
       "    }\n",
       "</style>\n",
       "<table border=\"1\" class=\"dataframe\">\n",
       "  <thead>\n",
       "    <tr style=\"text-align: right;\">\n",
       "      <th></th>\n",
       "      <th>IsHoliday</th>\n",
       "      <th>Weekly_Sales</th>\n",
       "    </tr>\n",
       "    <tr>\n",
       "      <th>Date</th>\n",
       "      <th></th>\n",
       "      <th></th>\n",
       "    </tr>\n",
       "  </thead>\n",
       "  <tbody>\n",
       "    <tr>\n",
       "      <th>2010-01-10</th>\n",
       "      <td>0.0</td>\n",
       "      <td>1933719.21</td>\n",
       "    </tr>\n",
       "    <tr>\n",
       "      <th>2010-02-04</th>\n",
       "      <td>0.0</td>\n",
       "      <td>2405395.22</td>\n",
       "    </tr>\n",
       "    <tr>\n",
       "      <th>2010-02-07</th>\n",
       "      <td>0.0</td>\n",
       "      <td>2143676.77</td>\n",
       "    </tr>\n",
       "    <tr>\n",
       "      <th>2010-02-19</th>\n",
       "      <td>0.0</td>\n",
       "      <td>2161549.76</td>\n",
       "    </tr>\n",
       "    <tr>\n",
       "      <th>2010-02-26</th>\n",
       "      <td>0.0</td>\n",
       "      <td>1898193.95</td>\n",
       "    </tr>\n",
       "  </tbody>\n",
       "</table>\n",
       "</div>"
      ],
      "text/plain": [
       "            IsHoliday  Weekly_Sales\n",
       "Date                               \n",
       "2010-01-10        0.0    1933719.21\n",
       "2010-02-04        0.0    2405395.22\n",
       "2010-02-07        0.0    2143676.77\n",
       "2010-02-19        0.0    2161549.76\n",
       "2010-02-26        0.0    1898193.95"
      ]
     },
     "execution_count": 59,
     "metadata": {},
     "output_type": "execute_result"
    }
   ],
   "source": [
    "df20=df.where( df['Store'] == 20)\n",
    "df20['Date'] = pd.to_datetime(df20['Date'])\n",
    "#df20 = df20.sort_values(['Date'])#.groupby('Date',as_index=False)['Weekly_Sales'].sum()\n",
    "df20=df20.groupby(by=['Date'], as_index=False)['Weekly_Sales'].sum()\n",
    "df20 = df20.set_index('Date')\n",
    "df20.head()"
   ]
  },
  {
   "cell_type": "code",
   "execution_count": 49,
   "id": "d8c51f20",
   "metadata": {},
   "outputs": [
    {
     "data": {
      "text/html": [
       "<div>\n",
       "<style scoped>\n",
       "    .dataframe tbody tr th:only-of-type {\n",
       "        vertical-align: middle;\n",
       "    }\n",
       "\n",
       "    .dataframe tbody tr th {\n",
       "        vertical-align: top;\n",
       "    }\n",
       "\n",
       "    .dataframe thead th {\n",
       "        text-align: right;\n",
       "    }\n",
       "</style>\n",
       "<table border=\"1\" class=\"dataframe\">\n",
       "  <thead>\n",
       "    <tr style=\"text-align: right;\">\n",
       "      <th></th>\n",
       "      <th>Weekly_Sales</th>\n",
       "    </tr>\n",
       "    <tr>\n",
       "      <th>Date</th>\n",
       "      <th></th>\n",
       "    </tr>\n",
       "  </thead>\n",
       "  <tbody>\n",
       "    <tr>\n",
       "      <th>2012-10-08</th>\n",
       "      <td>2144245.39</td>\n",
       "    </tr>\n",
       "    <tr>\n",
       "      <th>2012-10-19</th>\n",
       "      <td>1999363.49</td>\n",
       "    </tr>\n",
       "    <tr>\n",
       "      <th>2012-10-26</th>\n",
       "      <td>2031650.55</td>\n",
       "    </tr>\n",
       "    <tr>\n",
       "      <th>2012-11-05</th>\n",
       "      <td>2168097.11</td>\n",
       "    </tr>\n",
       "    <tr>\n",
       "      <th>2012-12-10</th>\n",
       "      <td>2162951.36</td>\n",
       "    </tr>\n",
       "  </tbody>\n",
       "</table>\n",
       "</div>"
      ],
      "text/plain": [
       "            Weekly_Sales\n",
       "Date                    \n",
       "2012-10-08    2144245.39\n",
       "2012-10-19    1999363.49\n",
       "2012-10-26    2031650.55\n",
       "2012-11-05    2168097.11\n",
       "2012-12-10    2162951.36"
      ]
     },
     "execution_count": 49,
     "metadata": {},
     "output_type": "execute_result"
    }
   ],
   "source": [
    "df20.tail()"
   ]
  },
  {
   "cell_type": "code",
   "execution_count": 50,
   "id": "59afbbe8",
   "metadata": {},
   "outputs": [
    {
     "data": {
      "image/png": "[encoded data removed]",
      "text/plain": [
       "<Figure size 2880x720 with 1 Axes>"
      ]
     },
     "metadata": {
      "needs_background": "light"
     },
     "output_type": "display_data"
    }
   ],
   "source": [
    "plt.figure(figsize=(40,10))\n",
    "plt.plot(df20.index, df20.Weekly_Sales)\n",
    "plt.show()"
   ]
  },
  {
   "cell_type": "markdown",
   "id": "34615669",
   "metadata": {},
   "source": [
    "## test if data is stationary or not "
   ]
  },
  {
   "cell_type": "code",
   "execution_count": 51,
   "id": "6a844f7b",
   "metadata": {
    "collapsed": true
   },
   "outputs": [],
   "source": [
    "from statsmodels.tsa.stattools import adfuller\n",
    "def adfuller_test(sales):\n",
    "    result=adfuller(sales)\n",
    "    labels = ['ADF Test Statistic','p-value','#Lags Used','Number of Observations Used']\n",
    "    for value,label in zip(result,labels):\n",
    "        print(label+' : '+str(value) )\n",
    "    if result[1] <= 0.05:\n",
    "        print(\"strong evidence against the null hypothesis(Ho), reject the null hypothesis. Data stationary\")\n",
    "    else:\n",
    "        print(\"weak evidence against null hypothesis, Data is non-stationary \")"
   ]
  },
  {
   "cell_type": "code",
   "execution_count": 52,
   "id": "5997831a",
   "metadata": {},
   "outputs": [
    {
     "name": "stdout",
     "output_type": "stream",
     "text": [
      "ADF Test Statistic : -9.804395784660617\n",
      "p-value : 5.878593367625922e-17\n",
      "#Lags Used : 0\n",
      "Number of Observations Used : 142\n",
      "strong evidence against the null hypothesis(Ho), reject the null hypothesis. Data stationary\n"
     ]
    }
   ],
   "source": [
    "adfuller_test(df20.Weekly_Sales)"
   ]
  },
  {
   "cell_type": "markdown",
   "id": "a7d9cef7",
   "metadata": {},
   "source": [
    "## plot acf & pacf"
   ]
  },
  {
   "cell_type": "code",
   "execution_count": 53,
   "id": "f08f0f10",
   "metadata": {},
   "outputs": [
    {
     "data": {
      "image/png": "[encoded data removed]",
      "text/plain": [
       "<Figure size 1440x360 with 2 Axes>"
      ]
     },
     "metadata": {
      "needs_background": "light"
     },
     "output_type": "display_data"
    }
   ],
   "source": [
    "fig, axes = plt.subplots(1,2, figsize=(20,5))\n",
    "plot_acf(df20.Weekly_Sales, lags=24, alpha=0.05, ax=axes[0])\n",
    "plot_pacf(df20.Weekly_Sales, lags=24, alpha=0.05, ax=axes[1])\n",
    "plt.show()"
   ]
  },
  {
   "cell_type": "markdown",
   "id": "f1c52ede",
   "metadata": {},
   "source": [
    "## try arima "
   ]
  },
  {
   "cell_type": "code",
   "execution_count": 54,
   "id": "f391dec1",
   "metadata": {},
   "outputs": [
    {
     "data": {
      "text/html": [
       "<table class=\"simpletable\">\n",
       "<caption>SARIMAX Results</caption>\n",
       "<tr>\n",
       "  <th>Dep. Variable:</th>           <td>y</td>        <th>  No. Observations:  </th>    <td>143</td>   \n",
       "</tr>\n",
       "<tr>\n",
       "  <th>Model:</th>           <td>SARIMAX(0, 0, 1)</td> <th>  Log Likelihood     </th> <td>-1991.104</td>\n",
       "</tr>\n",
       "<tr>\n",
       "  <th>Date:</th>            <td>Sat, 16 Jul 2022</td> <th>  AIC                </th> <td>3988.207</td> \n",
       "</tr>\n",
       "<tr>\n",
       "  <th>Time:</th>                <td>08:48:46</td>     <th>  BIC                </th> <td>3997.096</td> \n",
       "</tr>\n",
       "<tr>\n",
       "  <th>Sample:</th>                  <td>0</td>        <th>  HQIC               </th> <td>3991.819</td> \n",
       "</tr>\n",
       "<tr>\n",
       "  <th></th>                      <td> - 143</td>      <th>                     </th>     <td> </td>    \n",
       "</tr>\n",
       "<tr>\n",
       "  <th>Covariance Type:</th>        <td>opg</td>       <th>                     </th>     <td> </td>    \n",
       "</tr>\n",
       "</table>\n",
       "<table class=\"simpletable\">\n",
       "<tr>\n",
       "      <td></td>         <th>coef</th>     <th>std err</th>      <th>z</th>      <th>P>|z|</th>  <th>[0.025</th>    <th>0.975]</th>  \n",
       "</tr>\n",
       "<tr>\n",
       "  <th>intercept</th> <td> 2.104e+06</td> <td>  3.4e+04</td> <td>   61.838</td> <td> 0.000</td> <td> 2.04e+06</td> <td> 2.17e+06</td>\n",
       "</tr>\n",
       "<tr>\n",
       "  <th>ma.L1</th>     <td>    0.2063</td> <td>    0.051</td> <td>    4.067</td> <td> 0.000</td> <td>    0.107</td> <td>    0.306</td>\n",
       "</tr>\n",
       "<tr>\n",
       "  <th>sigma2</th>    <td> 7.458e+10</td> <td>    0.143</td> <td>  5.2e+11</td> <td> 0.000</td> <td> 7.46e+10</td> <td> 7.46e+10</td>\n",
       "</tr>\n",
       "</table>\n",
       "<table class=\"simpletable\">\n",
       "<tr>\n",
       "  <th>Ljung-Box (L1) (Q):</th>     <td>0.00</td> <th>  Jarque-Bera (JB):  </th> <td>766.71</td>\n",
       "</tr>\n",
       "<tr>\n",
       "  <th>Prob(Q):</th>                <td>0.95</td> <th>  Prob(JB):          </th>  <td>0.00</td> \n",
       "</tr>\n",
       "<tr>\n",
       "  <th>Heteroskedasticity (H):</th> <td>0.76</td> <th>  Skew:              </th>  <td>2.59</td> \n",
       "</tr>\n",
       "<tr>\n",
       "  <th>Prob(H) (two-sided):</th>    <td>0.35</td> <th>  Kurtosis:          </th>  <td>13.09</td>\n",
       "</tr>\n",
       "</table><br/><br/>Warnings:<br/>[1] Covariance matrix calculated using the outer product of gradients (complex-step).<br/>[2] Covariance matrix is singular or near-singular, with condition number 3.88e+26. Standard errors may be unstable."
      ],
      "text/plain": [
       "<class 'statsmodels.iolib.summary.Summary'>\n",
       "\"\"\"\n",
       "                               SARIMAX Results                                \n",
       "==============================================================================\n",
       "Dep. Variable:                      y   No. Observations:                  143\n",
       "Model:               SARIMAX(0, 0, 1)   Log Likelihood               -1991.104\n",
       "Date:                Sat, 16 Jul 2022   AIC                           3988.207\n",
       "Time:                        08:48:46   BIC                           3997.096\n",
       "Sample:                             0   HQIC                          3991.819\n",
       "                                - 143                                         \n",
       "Covariance Type:                  opg                                         \n",
       "==============================================================================\n",
       "                 coef    std err          z      P>|z|      [0.025      0.975]\n",
       "------------------------------------------------------------------------------\n",
       "intercept   2.104e+06    3.4e+04     61.838      0.000    2.04e+06    2.17e+06\n",
       "ma.L1          0.2063      0.051      4.067      0.000       0.107       0.306\n",
       "sigma2      7.458e+10      0.143    5.2e+11      0.000    7.46e+10    7.46e+10\n",
       "===================================================================================\n",
       "Ljung-Box (L1) (Q):                   0.00   Jarque-Bera (JB):               766.71\n",
       "Prob(Q):                              0.95   Prob(JB):                         0.00\n",
       "Heteroskedasticity (H):               0.76   Skew:                             2.59\n",
       "Prob(H) (two-sided):                  0.35   Kurtosis:                        13.09\n",
       "===================================================================================\n",
       "\n",
       "Warnings:\n",
       "[1] Covariance matrix calculated using the outer product of gradients (complex-step).\n",
       "[2] Covariance matrix is singular or near-singular, with condition number 3.88e+26. Standard errors may be unstable.\n",
       "\"\"\""
      ]
     },
     "execution_count": 54,
     "metadata": {},
     "output_type": "execute_result"
    }
   ],
   "source": [
    "from pmdarima import auto_arima\n",
    "auto_arima(df20['Weekly_Sales'], Trace=True).summary()"
   ]
  },
  {
   "cell_type": "markdown",
   "id": "75b7eafa",
   "metadata": {},
   "source": [
    "## now split data and fit model with  p =0 , d=0 , q =1 which mean it will be arma mode only MA "
   ]
  },
  {
   "cell_type": "code",
   "execution_count": 55,
   "id": "36df8a70",
   "metadata": {},
   "outputs": [
    {
     "name": "stdout",
     "output_type": "stream",
     "text": [
      "(143, 1)\n",
      "(113, 1) (30, 1)\n"
     ]
    }
   ],
   "source": [
    "print(df20.shape)\n",
    "train=df20.iloc[:-30]\n",
    "test=df20.iloc[-30:]\n",
    "print(train.shape,test.shape)"
   ]
  },
  {
   "cell_type": "code",
   "execution_count": 56,
   "id": "7e2e7dc0",
   "metadata": {},
   "outputs": [
    {
     "name": "stderr",
     "output_type": "stream",
     "text": [
      "C:\\Anaconda3\\lib\\site-packages\\statsmodels\\tsa\\arima_model.py:472: FutureWarning: \n",
      "statsmodels.tsa.arima_model.ARMA and statsmodels.tsa.arima_model.ARIMA have\n",
      "been deprecated in favor of statsmodels.tsa.arima.model.ARIMA (note the .\n",
      "between arima and model) and\n",
      "statsmodels.tsa.SARIMAX. These will be removed after the 0.12 release.\n",
      "\n",
      "statsmodels.tsa.arima.model.ARIMA makes use of the statespace framework and\n",
      "is both well tested and maintained.\n",
      "\n",
      "To silence this warning and continue using ARMA and ARIMA until they are\n",
      "removed, use:\n",
      "\n",
      "import warnings\n",
      "warnings.filterwarnings('ignore', 'statsmodels.tsa.arima_model.ARMA',\n",
      "                        FutureWarning)\n",
      "warnings.filterwarnings('ignore', 'statsmodels.tsa.arima_model.ARIMA',\n",
      "                        FutureWarning)\n",
      "\n",
      "  warnings.warn(ARIMA_DEPRECATION_WARN, FutureWarning)\n",
      "C:\\Anaconda3\\lib\\site-packages\\statsmodels\\tsa\\base\\tsa_model.py:583: ValueWarning: A date index has been provided, but it has no associated frequency information and so will be ignored when e.g. forecasting.\n",
      "  ' ignored when e.g. forecasting.', ValueWarning)\n"
     ]
    },
    {
     "data": {
      "text/html": [
       "<table class=\"simpletable\">\n",
       "<caption>ARMA Model Results</caption>\n",
       "<tr>\n",
       "  <th>Dep. Variable:</th>   <td>Weekly_Sales</td>   <th>  No. Observations:  </th>     <td>113</td>   \n",
       "</tr>\n",
       "<tr>\n",
       "  <th>Model:</th>            <td>ARMA(0, 1)</td>    <th>  Log Likelihood     </th>  <td>-1582.840</td>\n",
       "</tr>\n",
       "<tr>\n",
       "  <th>Method:</th>             <td>css-mle</td>     <th>  S.D. of innovations</th> <td>293106.887</td>\n",
       "</tr>\n",
       "<tr>\n",
       "  <th>Date:</th>          <td>Sat, 16 Jul 2022</td> <th>  AIC                </th>  <td>3171.679</td> \n",
       "</tr>\n",
       "<tr>\n",
       "  <th>Time:</th>              <td>08:48:57</td>     <th>  BIC                </th>  <td>3179.861</td> \n",
       "</tr>\n",
       "<tr>\n",
       "  <th>Sample:</th>                <td>0</td>        <th>  HQIC               </th>  <td>3174.999</td> \n",
       "</tr>\n",
       "<tr>\n",
       "  <th></th>                       <td> </td>        <th>                     </th>      <td> </td>    \n",
       "</tr>\n",
       "</table>\n",
       "<table class=\"simpletable\">\n",
       "<tr>\n",
       "           <td></td>             <th>coef</th>     <th>std err</th>      <th>z</th>      <th>P>|z|</th>  <th>[0.025</th>    <th>0.975]</th>  \n",
       "</tr>\n",
       "<tr>\n",
       "  <th>const</th>              <td>  2.11e+06</td> <td> 3.33e+04</td> <td>   63.341</td> <td> 0.000</td> <td> 2.04e+06</td> <td> 2.17e+06</td>\n",
       "</tr>\n",
       "<tr>\n",
       "  <th>ma.L1.Weekly_Sales</th> <td>    0.2097</td> <td>    0.095</td> <td>    2.215</td> <td> 0.027</td> <td>    0.024</td> <td>    0.395</td>\n",
       "</tr>\n",
       "</table>\n",
       "<table class=\"simpletable\">\n",
       "<caption>Roots</caption>\n",
       "<tr>\n",
       "    <td></td>   <th>            Real</th>  <th>         Imaginary</th> <th>         Modulus</th>  <th>        Frequency</th>\n",
       "</tr>\n",
       "<tr>\n",
       "  <th>MA.1</th> <td>          -4.7689</td> <td>          +0.0000j</td> <td>           4.7689</td> <td>           0.5000</td>\n",
       "</tr>\n",
       "</table>"
      ],
      "text/plain": [
       "<class 'statsmodels.iolib.summary.Summary'>\n",
       "\"\"\"\n",
       "                              ARMA Model Results                              \n",
       "==============================================================================\n",
       "Dep. Variable:           Weekly_Sales   No. Observations:                  113\n",
       "Model:                     ARMA(0, 1)   Log Likelihood               -1582.840\n",
       "Method:                       css-mle   S.D. of innovations         293106.887\n",
       "Date:                Sat, 16 Jul 2022   AIC                           3171.679\n",
       "Time:                        08:48:57   BIC                           3179.861\n",
       "Sample:                             0   HQIC                          3174.999\n",
       "                                                                              \n",
       "======================================================================================\n",
       "                         coef    std err          z      P>|z|      [0.025      0.975]\n",
       "--------------------------------------------------------------------------------------\n",
       "const                2.11e+06   3.33e+04     63.341      0.000    2.04e+06    2.17e+06\n",
       "ma.L1.Weekly_Sales     0.2097      0.095      2.215      0.027       0.024       0.395\n",
       "                                    Roots                                    \n",
       "=============================================================================\n",
       "                  Real          Imaginary           Modulus         Frequency\n",
       "-----------------------------------------------------------------------------\n",
       "MA.1           -4.7689           +0.0000j            4.7689            0.5000\n",
       "-----------------------------------------------------------------------------\n",
       "\"\"\""
      ]
     },
     "execution_count": 56,
     "metadata": {},
     "output_type": "execute_result"
    }
   ],
   "source": [
    "from statsmodels.tsa.arima_model import ARIMA\n",
    "model=ARIMA(train['Weekly_Sales'],order=(0, 0, 1))\n",
    "results=model.fit()\n",
    "results.summary()"
   ]
  },
  {
   "cell_type": "code",
   "execution_count": 31,
   "id": "33c67980",
   "metadata": {},
   "outputs": [
    {
     "name": "stdout",
     "output_type": "stream",
     "text": [
      "151993.72937707772\n"
     ]
    }
   ],
   "source": [
    "from sklearn.metrics import mean_squared_error\n",
    "from math import sqrt\n",
    "rmse=sqrt(mean_squared_error(pred,test['Weekly_Sales']))\n",
    "print(rmse)"
   ]
  },
  {
   "cell_type": "markdown",
   "id": "d3568b9c",
   "metadata": {},
   "source": [
    "## try to add seasonal and use sarimax "
   ]
  },
  {
   "cell_type": "code",
   "execution_count": 73,
   "id": "83059b72",
   "metadata": {},
   "outputs": [
    {
     "name": "stdout",
     "output_type": "stream",
     "text": [
      "Performing stepwise search to minimize aic\n",
      " ARIMA(2,0,2)(1,0,1)[48] intercept   : AIC=3998.061, Time=4.58 sec\n",
      " ARIMA(0,0,0)(0,0,0)[48] intercept   : AIC=3991.763, Time=0.01 sec\n",
      " ARIMA(1,0,0)(1,0,0)[48] intercept   : AIC=3990.678, Time=1.69 sec\n",
      " ARIMA(0,0,1)(0,0,1)[48] intercept   : AIC=3990.203, Time=0.52 sec\n",
      " ARIMA(0,0,0)(0,0,0)[48]             : AIC=4574.703, Time=0.01 sec\n",
      " ARIMA(0,0,1)(0,0,0)[48] intercept   : AIC=3988.207, Time=0.03 sec\n",
      " ARIMA(0,0,1)(1,0,0)[48] intercept   : AIC=3990.189, Time=1.57 sec\n",
      " ARIMA(0,0,1)(1,0,1)[48] intercept   : AIC=3992.186, Time=1.25 sec\n",
      " ARIMA(1,0,1)(0,0,0)[48] intercept   : AIC=3990.538, Time=0.05 sec\n",
      " ARIMA(0,0,2)(0,0,0)[48] intercept   : AIC=3990.131, Time=0.04 sec\n",
      " ARIMA(1,0,0)(0,0,0)[48] intercept   : AIC=3988.692, Time=0.02 sec\n",
      " ARIMA(1,0,2)(0,0,0)[48] intercept   : AIC=3992.100, Time=0.07 sec\n",
      " ARIMA(0,0,1)(0,0,0)[48]             : AIC=4479.094, Time=0.03 sec\n",
      "\n",
      "Best model:  ARIMA(0,0,1)(0,0,0)[48] intercept\n",
      "Total fit time: 9.901 seconds\n"
     ]
    },
    {
     "data": {
      "text/html": [
       "<table class=\"simpletable\">\n",
       "<caption>SARIMAX Results</caption>\n",
       "<tr>\n",
       "  <th>Dep. Variable:</th>           <td>y</td>        <th>  No. Observations:  </th>    <td>143</td>   \n",
       "</tr>\n",
       "<tr>\n",
       "  <th>Model:</th>           <td>SARIMAX(0, 0, 1)</td> <th>  Log Likelihood     </th> <td>-1991.104</td>\n",
       "</tr>\n",
       "<tr>\n",
       "  <th>Date:</th>            <td>Sat, 16 Jul 2022</td> <th>  AIC                </th> <td>3988.207</td> \n",
       "</tr>\n",
       "<tr>\n",
       "  <th>Time:</th>                <td>09:03:04</td>     <th>  BIC                </th> <td>3997.096</td> \n",
       "</tr>\n",
       "<tr>\n",
       "  <th>Sample:</th>                  <td>0</td>        <th>  HQIC               </th> <td>3991.819</td> \n",
       "</tr>\n",
       "<tr>\n",
       "  <th></th>                      <td> - 143</td>      <th>                     </th>     <td> </td>    \n",
       "</tr>\n",
       "<tr>\n",
       "  <th>Covariance Type:</th>        <td>opg</td>       <th>                     </th>     <td> </td>    \n",
       "</tr>\n",
       "</table>\n",
       "<table class=\"simpletable\">\n",
       "<tr>\n",
       "      <td></td>         <th>coef</th>     <th>std err</th>      <th>z</th>      <th>P>|z|</th>  <th>[0.025</th>    <th>0.975]</th>  \n",
       "</tr>\n",
       "<tr>\n",
       "  <th>intercept</th> <td> 2.104e+06</td> <td>  3.4e+04</td> <td>   61.838</td> <td> 0.000</td> <td> 2.04e+06</td> <td> 2.17e+06</td>\n",
       "</tr>\n",
       "<tr>\n",
       "  <th>ma.L1</th>     <td>    0.2063</td> <td>    0.051</td> <td>    4.067</td> <td> 0.000</td> <td>    0.107</td> <td>    0.306</td>\n",
       "</tr>\n",
       "<tr>\n",
       "  <th>sigma2</th>    <td> 7.458e+10</td> <td>    0.143</td> <td>  5.2e+11</td> <td> 0.000</td> <td> 7.46e+10</td> <td> 7.46e+10</td>\n",
       "</tr>\n",
       "</table>\n",
       "<table class=\"simpletable\">\n",
       "<tr>\n",
       "  <th>Ljung-Box (L1) (Q):</th>     <td>0.00</td> <th>  Jarque-Bera (JB):  </th> <td>766.71</td>\n",
       "</tr>\n",
       "<tr>\n",
       "  <th>Prob(Q):</th>                <td>0.95</td> <th>  Prob(JB):          </th>  <td>0.00</td> \n",
       "</tr>\n",
       "<tr>\n",
       "  <th>Heteroskedasticity (H):</th> <td>0.76</td> <th>  Skew:              </th>  <td>2.59</td> \n",
       "</tr>\n",
       "<tr>\n",
       "  <th>Prob(H) (two-sided):</th>    <td>0.35</td> <th>  Kurtosis:          </th>  <td>13.09</td>\n",
       "</tr>\n",
       "</table><br/><br/>Warnings:<br/>[1] Covariance matrix calculated using the outer product of gradients (complex-step).<br/>[2] Covariance matrix is singular or near-singular, with condition number 3.88e+26. Standard errors may be unstable."
      ],
      "text/plain": [
       "<class 'statsmodels.iolib.summary.Summary'>\n",
       "\"\"\"\n",
       "                               SARIMAX Results                                \n",
       "==============================================================================\n",
       "Dep. Variable:                      y   No. Observations:                  143\n",
       "Model:               SARIMAX(0, 0, 1)   Log Likelihood               -1991.104\n",
       "Date:                Sat, 16 Jul 2022   AIC                           3988.207\n",
       "Time:                        09:03:04   BIC                           3997.096\n",
       "Sample:                             0   HQIC                          3991.819\n",
       "                                - 143                                         \n",
       "Covariance Type:                  opg                                         \n",
       "==============================================================================\n",
       "                 coef    std err          z      P>|z|      [0.025      0.975]\n",
       "------------------------------------------------------------------------------\n",
       "intercept   2.104e+06    3.4e+04     61.838      0.000    2.04e+06    2.17e+06\n",
       "ma.L1          0.2063      0.051      4.067      0.000       0.107       0.306\n",
       "sigma2      7.458e+10      0.143    5.2e+11      0.000    7.46e+10    7.46e+10\n",
       "===================================================================================\n",
       "Ljung-Box (L1) (Q):                   0.00   Jarque-Bera (JB):               766.71\n",
       "Prob(Q):                              0.95   Prob(JB):                         0.00\n",
       "Heteroskedasticity (H):               0.76   Skew:                             2.59\n",
       "Prob(H) (two-sided):                  0.35   Kurtosis:                        13.09\n",
       "===================================================================================\n",
       "\n",
       "Warnings:\n",
       "[1] Covariance matrix calculated using the outer product of gradients (complex-step).\n",
       "[2] Covariance matrix is singular or near-singular, with condition number 3.88e+26. Standard errors may be unstable.\n",
       "\"\"\""
      ]
     },
     "execution_count": 73,
     "metadata": {},
     "output_type": "execute_result"
    }
   ],
   "source": [
    "from statsmodels.tsa.statespace.sarimax import SARIMAX\n",
    "from pmdarima import auto_arima\n",
    "auto_arima(df20['Weekly_Sales'], seasonal=True, m=48, trace=True).summary() #auto arima gives the best fit"
   ]
  },
  {
   "cell_type": "code",
   "execution_count": 74,
   "id": "3d148767",
   "metadata": {},
   "outputs": [
    {
     "name": "stderr",
     "output_type": "stream",
     "text": [
      "C:\\Anaconda3\\lib\\site-packages\\statsmodels\\tsa\\base\\tsa_model.py:583: ValueWarning: A date index has been provided, but it has no associated frequency information and so will be ignored when e.g. forecasting.\n",
      "  ' ignored when e.g. forecasting.', ValueWarning)\n",
      "C:\\Anaconda3\\lib\\site-packages\\statsmodels\\tsa\\base\\tsa_model.py:583: ValueWarning: A date index has been provided, but it has no associated frequency information and so will be ignored when e.g. forecasting.\n",
      "  ' ignored when e.g. forecasting.', ValueWarning)\n",
      "C:\\Anaconda3\\lib\\site-packages\\statsmodels\\tsa\\statespace\\sarimax.py:868: UserWarning: Too few observations to estimate starting parameters for seasonal ARMA. All parameters except for variances will be set to zeros.\n",
      "  ' zeros.' % warning_description)\n"
     ]
    }
   ],
   "source": [
    "model = SARIMAX(train['Weekly_Sales'], order=(0,0,1),seasonal_order=(0, 0, 1, 48))\n",
    "res = model.fit()"
   ]
  },
  {
   "cell_type": "code",
   "execution_count": 75,
   "id": "bae97fc1",
   "metadata": {},
   "outputs": [
    {
     "name": "stderr",
     "output_type": "stream",
     "text": [
      "C:\\Anaconda3\\lib\\site-packages\\statsmodels\\tsa\\base\\tsa_model.py:379: ValueWarning: No supported index is available. Prediction results will be given with an integer index beginning at `start`.\n",
      "  ValueWarning)\n"
     ]
    }
   ],
   "source": [
    "prediction=res.predict(start=113,end=142)"
   ]
  },
  {
   "cell_type": "code",
   "execution_count": 76,
   "id": "72182013",
   "metadata": {},
   "outputs": [
    {
     "name": "stdout",
     "output_type": "stream",
     "text": [
      "1692017.2430406045\n"
     ]
    }
   ],
   "source": [
    "rmse2=sqrt(mean_squared_error(prediction,test['Weekly_Sales']))\n",
    "print(rmse2)"
   ]
  },
  {
   "cell_type": "markdown",
   "id": "2d437ad6",
   "metadata": {},
   "source": [
    "# the results is not good enough so i will try to use machine learning models in the next notebook "
   ]
  },
  {
   "cell_type": "code",
   "execution_count": null,
   "id": "d0ff955c",
   "metadata": {
    "collapsed": true
   },
   "outputs": [],
   "source": []
  }
 ],
 "metadata": {
  "kernelspec": {
   "display_name": "Python 3",
   "language": "python",
   "name": "python3"
  },
  "language_info": {
   "codemirror_mode": {
    "name": "ipython",
    "version": 3
   },
   "file_extension": ".py",
   "mimetype": "text/x-python",
   "name": "python",
   "nbconvert_exporter": "python",
   "pygments_lexer": "ipython3",
   "version": "3.6.2"
  }
 },
 "nbformat": 4,
 "nbformat_minor": 5
}
